{
 "cells": [
  {
   "cell_type": "markdown",
   "metadata": {},
   "source": [
    "# CÁLCULO\n",
    "# FUNCIONES Y SUS LÍMITES\n",
    "\n",
    "## EL LÍMITE DE UNA FUNCIÓN\n",
    "\n",
    "    El propósito de este sección es explorar el significado del límite de una función. Comenzaremos mostrando como la idea de un límite surge cuando tratamos de en contrar la velocidad de un objeto en caída. "
   ]
  },
  {
   "cell_type": "markdown",
   "metadata": {},
   "source": [
    "#### Ejemplo\n",
    "\n",
    "Suponga que una pelota es soltada de la parte superior de una torre, de 450 metros de alto. Encontrar la velocidad de la pelota despues de cinco segundos."
   ]
  },
  {
   "cell_type": "markdown",
   "metadata": {},
   "source": [
    "Vamos a simular la posición de la pelota en intervalos de 1 segundo"
   ]
  },
  {
   "cell_type": "code",
   "execution_count": 13,
   "metadata": {},
   "outputs": [
    {
     "data": {
      "text/html": [
       "<html><script type=\"math/tex; mode=display\">\\newcommand{\\Bold}[1]{\\mathbf{#1}}t \\ {\\mapsto}\\ -4.90500000000000 \\, t^{2} + 450</script></html>"
      ],
      "text/plain": [
       "t |--> -4.90500000000000*t^2 + 450"
      ]
     },
     "metadata": {},
     "output_type": "display_data"
    }
   ],
   "source": [
    "h0 = 450\n",
    "v0 = 0\n",
    "g = 9.81\n",
    " \n",
    "h(t) = h0 + v0*t - (1/2)*g*t^2\n",
    "\n",
    "show(h)"
   ]
  },
  {
   "cell_type": "code",
   "execution_count": 11,
   "metadata": {},
   "outputs": [
    {
     "name": "stdout",
     "output_type": "stream",
     "text": [
      "[ 0.    0.05  0.1   0.15  0.2   0.25  0.3   0.35  0.4   0.45  0.5   0.55\n",
      "  0.6   0.65  0.7   0.75  0.8   0.85  0.9   0.95  1.    1.05  1.1   1.15\n",
      "  1.2   1.25  1.3   1.35  1.4   1.45  1.5   1.55  1.6   1.65  1.7   1.75\n",
      "  1.8   1.85  1.9   1.95  2.    2.05  2.1   2.15  2.2   2.25  2.3   2.35\n",
      "  2.4   2.45  2.5   2.55  2.6   2.65  2.7   2.75  2.8   2.85  2.9   2.95\n",
      "  3.    3.05  3.1   3.15  3.2   3.25  3.3   3.35  3.4   3.45  3.5   3.55\n",
      "  3.6   3.65  3.7   3.75  3.8   3.85  3.9   3.95  4.    4.05  4.1   4.15\n",
      "  4.2   4.25  4.3   4.35  4.4   4.45  4.5   4.55  4.6   4.65  4.7   4.75\n",
      "  4.8   4.85  4.9   4.95  5.  ]\n"
     ]
    }
   ],
   "source": [
    "import numpy as np\n",
    "tiempos = np.linspace(0,5,num=101,endpoint=True)\n",
    "print(tiempos)"
   ]
  },
  {
   "cell_type": "code",
   "execution_count": 14,
   "metadata": {},
   "outputs": [
    {
     "data": {
      "image/png": "[encoded data removed]",
      "text/plain": [
       "Graphics object consisting of 101 graphics primitives"
      ]
     },
     "metadata": {},
     "output_type": "display_data"
    }
   ],
   "source": [
    "simulacion = Graphics()\n",
    "\n",
    "for t0 in tiempos:\n",
    "    simulacion += point((0, h(t0)), color=hue(2^-t0), size=50 )\n",
    "\n",
    "show(simulacion)"
   ]
  },
  {
   "cell_type": "markdown",
   "metadata": {},
   "source": [
    "Lo primero que se nos podría ocurrir es calcular la velocidad promedio"
   ]
  },
  {
   "cell_type": "code",
   "execution_count": 7,
   "metadata": {},
   "outputs": [
    {
     "data": {
      "text/plain": [
       "327.375000000000"
      ]
     },
     "execution_count": 7,
     "metadata": {},
     "output_type": "execute_result"
    }
   ],
   "source": [
    "h(5)"
   ]
  },
  {
   "cell_type": "code",
   "execution_count": 20,
   "metadata": {},
   "outputs": [
    {
     "name": "stdout",
     "output_type": "stream",
     "text": [
      "-49.0499950774043\n"
     ]
    }
   ],
   "source": [
    "ti = 4.999999\n",
    "tf = 5\n",
    "\n",
    "velocidad_promedio = (h(tf)-h(ti))/(tf-ti)\n",
    "print(velocidad_promedio)"
   ]
  },
  {
   "cell_type": "markdown",
   "metadata": {},
   "source": [
    "Sin embargo, es importante notar que si elegimos intervarlos cada vez más pequeño para calcular esta velocidad promedio, obtendremos resultados diferentes."
   ]
  },
  {
   "cell_type": "code",
   "execution_count": null,
   "metadata": {},
   "outputs": [],
   "source": [
    "import numpy as np\n",
    "\n",
    "g=9.81\n",
    "h(t) = 450 -(1/2)*g*t^2\n",
    "\n",
    "tiempos = np.linspace(4.9999,5,11,endpoint=True)\n",
    "\n",
    "for t0 in tiempos:\n",
    "    try:\n",
    "        velocidad_promedio = (h(5)-h(t0))/(5-t0)\n",
    "        print(t0, velocidad_promedio)\n",
    "    except:\n",
    "        print(t0, \"Division entre 0\")"
   ]
  },
  {
   "cell_type": "markdown",
   "metadata": {},
   "source": [
    "¿Qué sucede si intentamos repetir el procedimiento, pero ahora sólo en el intervalo $[4,5]$?"
   ]
  },
  {
   "cell_type": "code",
   "execution_count": null,
   "metadata": {},
   "outputs": [],
   "source": [
    "tiempos = np.linspace(4,5,num=11,endpoint=True)\n",
    "\n",
    "for t0 in tiempos:\n",
    "    try:\n",
    "        velocidad_promedio = (h(5)-h(t0))/(5-t0)\n",
    "        print(t0, velocidad_promedio)\n",
    "    except:\n",
    "        print(t0, \"Division entre 0\")"
   ]
  },
  {
   "cell_type": "markdown",
   "metadata": {},
   "source": [
    "Ahora, repitamos esto mismo, pero en el intervalo $[4.9, 5]$"
   ]
  },
  {
   "cell_type": "code",
   "execution_count": null,
   "metadata": {},
   "outputs": [],
   "source": [
    "tiempos = np.linspace(4.9,5,num=11,endpoint=True)\n",
    "\n",
    "for t0 in tiempos:\n",
    "    try:\n",
    "        velocidad_promedio = (h(5)-h(t0))/(5-t0)\n",
    "        print(t0, velocidad_promedio)\n",
    "    except:\n",
    "        print(t0, \"Division entre 0\")"
   ]
  },
  {
   "cell_type": "markdown",
   "metadata": {},
   "source": [
    "Podemos conjeturar que la velocidad promedio en intervalos cada vez más cortos, se aproxima a `-49m/s`. Repitamos una última vez este procedimiento."
   ]
  },
  {
   "cell_type": "code",
   "execution_count": null,
   "metadata": {},
   "outputs": [],
   "source": [
    "tiempos = np.linspace(4.99,5,num=11,endpoint=True)\n",
    "\n",
    "for t0 in tiempos:\n",
    "    try:\n",
    "        velocidad_promedio = (h(5)-h(t0))/(5-t0)\n",
    "        print(t0, velocidad_promedio)\n",
    "    except:\n",
    "        print(t0, \"Division entre 0\")"
   ]
  },
  {
   "cell_type": "markdown",
   "metadata": {},
   "source": [
    "Sin embargo, ¡cuánto más nos acercamos a `t=5.0`, no empezamos a alejar un poco más de `v=-49`! De hecho, **la respuesta correcta es `v=-49.05`.** Esto nos muestra que los cálculos numérico por si mismos, no siempre nos tan precisos como creyeramos. Por eso, nos es necesario realizar un análisis matemático cauteloso de este tipo de fenómenos físicos."
   ]
  },
  {
   "cell_type": "markdown",
   "metadata": {},
   "source": [
    "De hecho, lo que estamos tratando de cálcular es el límite de la velocidad promedio cuando el cambio en el tiempo es aproximadamente cero. Al valor que obtenemos se le llama *velocidad instantanea*."
   ]
  },
  {
   "cell_type": "markdown",
   "metadata": {},
   "source": [
    "Antes de entrar en la parte teórica, calculemos este límite con `Sagemath`:"
   ]
  },
  {
   "cell_type": "code",
   "execution_count": null,
   "metadata": {},
   "outputs": [],
   "source": [
    "velocidad_promedio(t) = (h(5)-h(t))/(5-t)\n",
    "\n",
    "velocidad_instantanea = limit(velocidad_promedio(t), t=5)\n",
    "\n",
    "print(velocidad_instantanea)"
   ]
  },
  {
   "cell_type": "code",
   "execution_count": null,
   "metadata": {},
   "outputs": [],
   "source": [
    "show(velocidad_promedio(t).full_simplify())"
   ]
  },
  {
   "cell_type": "markdown",
   "metadata": {},
   "source": [
    "No es díficil entender porque la respuesta es esta. Observemos primero la gráfica de la velocidad promedio:"
   ]
  },
  {
   "cell_type": "code",
   "execution_count": null,
   "metadata": {},
   "outputs": [],
   "source": [
    "plot(velocidad_promedio)"
   ]
  },
  {
   "cell_type": "markdown",
   "metadata": {},
   "source": [
    "En efecto, ¡su gráfica es una recta! Incluso podemos obtener su expresión algebraica:"
   ]
  },
  {
   "cell_type": "code",
   "execution_count": null,
   "metadata": {},
   "outputs": [],
   "source": [
    "show(velocidad_promedio)"
   ]
  },
  {
   "cell_type": "markdown",
   "metadata": {},
   "source": [
    "La cual se simplifica "
   ]
  },
  {
   "cell_type": "code",
   "execution_count": null,
   "metadata": {},
   "outputs": [],
   "source": [
    "show(velocidad_promedio.factor())"
   ]
  },
  {
   "cell_type": "markdown",
   "metadata": {},
   "source": [
    "El detalle es que si intentamos evaluar en `t=5` en la expresión original, obtendremos una horrible división entre de cero. Ahora, si simplificamos la expresión, no es díficil evaluar en este punto, **¡pero la única manera de simplificar es removiendo dicho punto!** De aquí surgió la idea de los límites. "
   ]
  },
  {
   "cell_type": "markdown",
   "metadata": {},
   "source": [
    "### Definición intuitiva de límite.\n",
    "\n",
    "#### Ejercicio\n",
    "* Cálcule numericamente el límite de la función $f(x)=x^2-x+2$, cuando $x$ se aproxima a `2` (lo cual escribiremos como $x\\to 2$), tal como lo hicimos en el ejercicio anterior. \n",
    "* En el ejercicio anterior sólo lo aproximamos usando valores de `x` menores al punto límite. Ahora intente calcularlo, usando valores mayores que `x=2`."
   ]
  },
  {
   "cell_type": "code",
   "execution_count": null,
   "metadata": {},
   "outputs": [],
   "source": [
    "f(x) = x^2-x+2\n",
    "\n",
    "izquierda = np.linspace(1.9,2,num=11)\n",
    "\n",
    "for x0 in izquierda:\n",
    "    print(x0, f(x0))\n",
    "    \n",
    "    \n",
    "derecha = np.linspace(2.1,2,num=11)\n",
    "\n",
    "for x0 in derecha:\n",
    "    print(x0, f(x0))"
   ]
  },
  {
   "cell_type": "code",
   "execution_count": null,
   "metadata": {},
   "outputs": [],
   "source": [
    "f(x) = sin(x)/x\n",
    "plot(f)"
   ]
  },
  {
   "cell_type": "code",
   "execution_count": null,
   "metadata": {},
   "outputs": [],
   "source": [
    "izquierda = np.linspace(-1,0,num=11, endpoint=False)\n",
    "\n",
    "for x0 in izquierda:\n",
    "    print(x0, f(x0))\n",
    "    \n",
    "    \n",
    "derecha = np.linspace(1,0,num=11, endpoint=False)\n",
    "\n",
    "for x0 in derecha:\n",
    "    print(x0, f(x0))"
   ]
  },
  {
   "cell_type": "markdown",
   "metadata": {},
   "source": [
    "#### Definición (intuitiva)\n",
    "Suponga que $f(x)$ está definida cuando $x$ está cercano a un número $c$. Entonces decimos que el límite de $f(x)$ cuando $x$ se aproxima a $c$ es igual a $L$ si podemos hacer que los valores de $f(x)$ sean *arbitrariamente* cercanos a $L$ tomando valores de $x$ suficientemente cercanos (pero no iguales) a $c$. \n",
    "\n",
    "En este caso escribimos\n",
    "$$ L = \\lim_{x\\to c} f(x) $$"
   ]
  },
  {
   "cell_type": "markdown",
   "metadata": {},
   "source": [
    "#### Ejercicio\n",
    "* Intente encontrar numéricamente \n",
    "$$ \\lim_{x \\to 1} \\dfrac{x-1}{x^2-1} $$.\n",
    "* ¿Es posible cálcularlos sólo sustituyendo en $x=1$?"
   ]
  },
  {
   "cell_type": "markdown",
   "metadata": {},
   "source": [
    "#### Ejercicio\n",
    "* Intente encontrar numéricamente \n",
    "$$ \\lim_{t \\to 0} \\dfrac{\\sqrt{t^2+9} - 3}{t^2} $$.\n",
    "* ¿Es posible cálcularlos sólo sustituyendo en $t=0$?"
   ]
  },
  {
   "cell_type": "markdown",
   "metadata": {},
   "source": [
    "#### Ejercicio\n",
    "* Intente encontrar numéricamente \n",
    "$$ \\lim_{x \\to 0} \\dfrac{\\sin(x)}{x} $$.\n",
    "* ¿Es posible cálcularlos sólo sustituyendo en $x=0$?"
   ]
  },
  {
   "cell_type": "markdown",
   "metadata": {},
   "source": [
    "#### Ejercicio\n",
    "* Investigue \n",
    "$$ \\lim_{x\\to 0} \\sin\\left(\\dfrac{\\pi}{x}\\right) $$\n",
    "* Trace la gráfica de esta función"
   ]
  },
  {
   "cell_type": "markdown",
   "metadata": {},
   "source": [
    "### Límites unilaterales"
   ]
  },
  {
   "cell_type": "markdown",
   "metadata": {},
   "source": [
    "#### Ejemplo\n",
    "\n",
    "En la física matemática, es posible encontrar funciones definidas a trozo que no son *continuas*. Por ejemplo, la función de *Heaviside*:\n",
    "\n",
    "$$\n",
    "H(t)=\n",
    "\\begin{cases}\n",
    "0 & t<0 \\\\\n",
    "1 & t\\geq 0\n",
    "\\end{cases}\n",
    "$$"
   ]
  },
  {
   "cell_type": "code",
   "execution_count": null,
   "metadata": {},
   "outputs": [],
   "source": [
    "negativos = (-infinity, 0)\n",
    "cero = [0,0]\n",
    "positivos = (0, infinity)\n",
    "\n",
    "definicion_a_trozos = [\n",
    "    [negativos,0], \n",
    "    [cero,1], \n",
    "    [positivos,1] ]\n",
    "\n",
    "H(x) = piecewise(definicion_a_trozos)\n",
    "print(H(0))\n",
    "\n",
    "plot(H, (t,-1,1), thickness=5)"
   ]
  },
  {
   "cell_type": "markdown",
   "metadata": {},
   "source": [
    "Si calculamos el límite cuando $t\\to 0$ por la izquierda, obtenemos el límite $L=0$"
   ]
  },
  {
   "cell_type": "code",
   "execution_count": null,
   "metadata": {},
   "outputs": [],
   "source": [
    "negativos = np.linspace(-1,0,num=10)\n",
    "for x in negativos:\n",
    "    print(x, H(x))"
   ]
  },
  {
   "cell_type": "markdown",
   "metadata": {},
   "source": [
    "Si calculamos el límite cuando $t\\to 0$ por la derecha, obtenemos el límite $L=1$"
   ]
  },
  {
   "cell_type": "code",
   "execution_count": null,
   "metadata": {},
   "outputs": [],
   "source": [
    "positivos = np.linspace(1,0,num=10)\n",
    "for x in positivos:\n",
    "    print(x, H(x))"
   ]
  },
  {
   "cell_type": "markdown",
   "metadata": {},
   "source": [
    "Sin embargo, hay un salto o *discontinuidad*, ya que los valores de $H$ a la izquierda de $t=0$ son exactamente 0, pero en $t=0$, $H$ es igual a uno:"
   ]
  },
  {
   "cell_type": "code",
   "execution_count": null,
   "metadata": {},
   "outputs": [],
   "source": [
    "print(H(0))"
   ]
  },
  {
   "cell_type": "markdown",
   "metadata": {},
   "source": [
    "Para diferenciar el valor del límite calculado a partir de la aproximación por lados diferentes, utilizamos la siguiente notación:\n",
    "* $x \\to c^-$ si la aproximación es desde $-\\infty$, es decir, por la izquierda \n",
    "* $x \\to c^+$ si la aproximación es desde $+\\infty$, es decir, por la derecha "
   ]
  },
  {
   "cell_type": "markdown",
   "metadata": {},
   "source": [
    "Entonces, escribiremos \n",
    "$$\\lim_{x\\to c^-} f(x)$$ para el límite (lateral) que obtenemos por la izquierda y\n",
    "$$\\lim_{x\\to c^+} f(x)$$ para el límite (lateral) que obtenemos por la derecha."
   ]
  },
  {
   "cell_type": "markdown",
   "metadata": {},
   "source": [
    "En el ejemplo de la función de Heaviside, tendríamos que \n",
    "$$\\lim_{x\\to c^-} H(x) = 0$$\n",
    "$$\\lim_{x\\to c^-} H(x) = 1$$ "
   ]
  },
  {
   "cell_type": "markdown",
   "metadata": {},
   "source": [
    "Observe que el límite bilateral sólo puede definirse si existen los límites laterales y estos coinciden. Resumiendo tenemos que\n",
    "\n",
    "#### Proposición\n",
    "$$\\lim_{x\\to c} f(x) = L$$ si y solo si\n",
    "$$\\lim_{x\\to c^-} f(x)=\\lim_{x\\to c^+} f(x)$$"
   ]
  },
  {
   "cell_type": "markdown",
   "metadata": {},
   "source": [
    "Antes de continuar con los cálculos numéricos, procedamos a realizar un ejercicio de comprensión"
   ]
  },
  {
   "cell_type": "markdown",
   "metadata": {},
   "source": [
    "#### Ejercicio\n",
    "![IM10103:Discontinuidades](IM10103.PNG)\n",
    "\n",
    "Calcule los siguientes límites:\n",
    "\n",
    "* $$\\lim_{x\\to 2^-} g(x)$$ \n",
    "* $$\\lim_{x\\to 2^+} g(x)$$ \n",
    "* $$\\lim_{x\\to 2} g(x)$$"
   ]
  },
  {
   "cell_type": "markdown",
   "metadata": {},
   "source": [
    "* $$\\lim_{x\\to 5^-} g(x)$$ \n",
    "* $$\\lim_{x\\to 5^+} g(x)$$ \n",
    "* $$\\lim_{x\\to 5} g(x)$$"
   ]
  },
  {
   "cell_type": "markdown",
   "metadata": {},
   "source": [
    "#### Ejercicio\n",
    "Determine si \n",
    "$$ \\lim_{x\\to 0} \\dfrac{1}{x^2} $$\n",
    "existe."
   ]
  },
  {
   "cell_type": "code",
   "execution_count": null,
   "metadata": {},
   "outputs": [],
   "source": []
  }
 ],
 "metadata": {
  "kernelspec": {
   "display_name": "SageMath 8.3",
   "language": "",
   "name": "sagemath"
  },
  "language_info": {
   "codemirror_mode": {
    "name": "ipython",
    "version": 2
   },
   "file_extension": ".py",
   "mimetype": "text/x-python",
   "name": "python",
   "nbconvert_exporter": "python",
   "pygments_lexer": "ipython2",
   "version": "2.7.15"
  }
 },
 "nbformat": 4,
 "nbformat_minor": 2
}
