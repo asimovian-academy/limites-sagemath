{
 "cells": [
  {
   "cell_type": "markdown",
   "metadata": {},
   "source": [
    "# CÁLCULO\n",
    "# FUNCIONES Y SUS LÍMITES\n",
    "\n",
    "## EL LÍMITE DE UNA FUNCIÓN\n",
    "\n",
    "    El propósito de este sección es explorar el significado del límite de una función. Comenzaremos mostrando como la idea de un límite surge cuando tratamos de en contrar la velocidad de un objeto en caída. "
   ]
  },
  {
   "cell_type": "markdown",
   "metadata": {},
   "source": [
    "#### Ejemplo\n",
    "\n",
    "Suponga que una pelota es soltada de la parte superior de una torre, de 450 metros de alto. Encontrar la velocidad de la pelota despues de cinco segundos."
   ]
  },
  {
   "cell_type": "markdown",
   "metadata": {},
   "source": [
    "Vamos a simular la posición de la pelota en intervalos de 1 segundo"
   ]
  },
  {
   "cell_type": "code",
   "execution_count": 1,
   "metadata": {},
   "outputs": [],
   "source": [
    "h0 = 0\n",
    "g = 9.81\n",
    "h(t) = 450 - (1/2)*g*t^2"
   ]
  },
  {
   "cell_type": "code",
   "execution_count": 2,
   "metadata": {},
   "outputs": [
    {
     "data": {
      "image/png": "[encoded data removed]",
      "text/plain": [
       "Graphics object consisting of 11 graphics primitives"
      ]
     },
     "metadata": {},
     "output_type": "display_data"
    }
   ],
   "source": [
    "simulacion = Graphics()\n",
    "\n",
    "import numpy as np\n",
    "tiempos = np.linspace(0,5,num=11,endpoint=True)\n",
    "\n",
    "for t0 in tiempos:\n",
    "    simulacion += point((0, h(t0)), color=hue(2^-t0), size=100, legend_label=t0)\n",
    "\n",
    "show(simulacion)"
   ]
  },
  {
   "cell_type": "markdown",
   "metadata": {},
   "source": [
    "Lo primero que se nos podría ocurrir es calcular la velocidad promedio"
   ]
  },
  {
   "cell_type": "code",
   "execution_count": 3,
   "metadata": {},
   "outputs": [
    {
     "name": "stdout",
     "output_type": "stream",
     "text": [
      "-24.5250000000000\n"
     ]
    }
   ],
   "source": [
    "velocidad_promedio = (h(5)-h(0))/(5-0)\n",
    "print(velocidad_promedio)"
   ]
  },
  {
   "cell_type": "markdown",
   "metadata": {},
   "source": [
    "Sin embargo, es importante notar que si elegimos intervarlos cada vez más pequeño para calcular esta velocidad promedio, obtendremos resultados diferentes."
   ]
  },
  {
   "cell_type": "code",
   "execution_count": 4,
   "metadata": {},
   "outputs": [
    {
     "name": "stdout",
     "output_type": "stream",
     "text": [
      "(0.0, -24.5250000000000)\n",
      "(0.5, -26.9775000000000)\n",
      "(1.0, -29.4300000000000)\n",
      "(1.5, -31.8825000000000)\n",
      "(2.0, -34.3350000000000)\n",
      "(2.5, -36.7875000000000)\n",
      "(3.0, -39.2400000000000)\n",
      "(3.5, -41.6925000000000)\n",
      "(4.0, -44.1450000000000)\n",
      "(4.5, -46.5975000000000)\n",
      "(5.0, 'Division entre 0')\n"
     ]
    }
   ],
   "source": [
    "for t0 in tiempos:\n",
    "    try:\n",
    "        velocidad_promedio = (h(5)-h(t0))/(5-t0)\n",
    "        print(t0, velocidad_promedio)\n",
    "    except:\n",
    "        print(t0, \"Division entre 0\")"
   ]
  },
  {
   "cell_type": "markdown",
   "metadata": {},
   "source": [
    "¿Qué sucede si intentamos repetir el procedimiento, pero ahora sólo en el intervalo $[4,5]$?"
   ]
  },
  {
   "cell_type": "code",
   "execution_count": 5,
   "metadata": {},
   "outputs": [
    {
     "name": "stdout",
     "output_type": "stream",
     "text": [
      "(4.0, -44.1450000000000)\n",
      "(4.0999999999999996, -44.6355000000000)\n",
      "(4.2000000000000002, -45.1260000000000)\n",
      "(4.2999999999999998, -45.6165000000000)\n",
      "(4.4000000000000004, -46.1070000000000)\n",
      "(4.5, -46.5975000000000)\n",
      "(4.5999999999999996, -47.0879999999999)\n",
      "(4.7000000000000002, -47.5785000000000)\n",
      "(4.7999999999999998, -48.0689999999998)\n",
      "(4.9000000000000004, -48.5594999999997)\n",
      "(5.0, 'Division entre 0')\n"
     ]
    }
   ],
   "source": [
    "tiempos = np.linspace(4,5,num=11,endpoint=True)\n",
    "\n",
    "for t0 in tiempos:\n",
    "    try:\n",
    "        velocidad_promedio = (h(5)-h(t0))/(5-t0)\n",
    "        print(t0, velocidad_promedio)\n",
    "    except:\n",
    "        print(t0, \"Division entre 0\")"
   ]
  },
  {
   "cell_type": "markdown",
   "metadata": {},
   "source": [
    "Ahora, repitamos esto mismo, pero en el intervalo $[4.9, 5]$"
   ]
  },
  {
   "cell_type": "code",
   "execution_count": 6,
   "metadata": {},
   "outputs": [
    {
     "name": "stdout",
     "output_type": "stream",
     "text": [
      "(4.9000000000000004, -48.5594999999997)\n",
      "(4.9100000000000001, -48.6085500000002)\n",
      "(4.9199999999999999, -48.6575999999999)\n",
      "(4.9300000000000006, -48.7066499999998)\n",
      "(4.9400000000000004, -48.7557000000003)\n",
      "(4.9500000000000002, -48.8047499999995)\n",
      "(4.96, -48.8538000000005)\n",
      "(4.9699999999999998, -48.9028499999995)\n",
      "(4.9800000000000004, -48.9518999999983)\n",
      "(4.9900000000000002, -49.0009499999996)\n",
      "(5.0, 'Division entre 0')\n"
     ]
    }
   ],
   "source": [
    "tiempos = np.linspace(4.9,5,num=11,endpoint=True)\n",
    "\n",
    "for t0 in tiempos:\n",
    "    try:\n",
    "        velocidad_promedio = (h(5)-h(t0))/(5-t0)\n",
    "        print(t0, velocidad_promedio)\n",
    "    except:\n",
    "        print(t0, \"Division entre 0\")"
   ]
  },
  {
   "cell_type": "markdown",
   "metadata": {},
   "source": [
    "Podemos conjeturar que la velocidad promedio en intervalos cada vez más cortos, se aproxima a `-49m/s`. Repitamos una última vez este procedimiento."
   ]
  },
  {
   "cell_type": "code",
   "execution_count": 7,
   "metadata": {},
   "outputs": [
    {
     "name": "stdout",
     "output_type": "stream",
     "text": [
      "(4.9900000000000002, -49.0009499999996)\n",
      "(4.9910000000000005, -49.0058549999962)\n",
      "(4.992, -49.0107600000016)\n",
      "(4.9930000000000003, -49.0156649999991)\n",
      "(4.9939999999999998, -49.0205699999990)\n",
      "(4.9950000000000001, -49.0254749999973)\n",
      "(4.9960000000000004, -49.0303799999961)\n",
      "(4.9969999999999999, -49.0352850000003)\n",
      "(4.9980000000000002, -49.0401900000049)\n",
      "(4.9989999999999997, -49.0450949999804)\n",
      "(5.0, 'Division entre 0')\n"
     ]
    }
   ],
   "source": [
    "tiempos = np.linspace(4.99,5,num=11,endpoint=True)\n",
    "\n",
    "for t0 in tiempos:\n",
    "    try:\n",
    "        velocidad_promedio = (h(5)-h(t0))/(5-t0)\n",
    "        print(t0, velocidad_promedio)\n",
    "    except:\n",
    "        print(t0, \"Division entre 0\")"
   ]
  },
  {
   "cell_type": "markdown",
   "metadata": {},
   "source": [
    "Sin embargo, ¡cuánto más nos acercamos a `t=5.0`, no empezamos a alejar un poco más de `v=-49`! De hecho, **la respuesta correcta es `v=-49.05`.** Esto nos muestra que los cálculos numérico por si mismos, no siempre nos tan precisos como creyeramos. Por eso, nos es necesario realizar un análisis matemático cauteloso de este tipo de fenómenos físicos."
   ]
  },
  {
   "cell_type": "markdown",
   "metadata": {},
   "source": [
    "De hecho, lo que estamos tratando de cálcular es el límite de la velocidad promedio cuando el cambio en el tiempo es aproximadamente cero. Al valor que obtenemos se le llama *velocidad instantanea*."
   ]
  },
  {
   "cell_type": "markdown",
   "metadata": {},
   "source": [
    "Antes de entrar en la parte teórica, calculemos este límite con `Sagemath`:"
   ]
  },
  {
   "cell_type": "code",
   "execution_count": 8,
   "metadata": {},
   "outputs": [
    {
     "name": "stdout",
     "output_type": "stream",
     "text": [
      "-49.050000000000004\n"
     ]
    }
   ],
   "source": [
    "velocidad_promedio(t) = (h(5)-h(t))/(5-t)\n",
    "\n",
    "velocidad_instantanea = limit(velocidad_promedio(t), t=5)\n",
    "\n",
    "print(velocidad_instantanea)"
   ]
  },
  {
   "cell_type": "markdown",
   "metadata": {},
   "source": [
    "No es díficil entender porque la respuesta es esta. Observemos primero la gráfica de la velocidad promedio:"
   ]
  },
  {
   "cell_type": "code",
   "execution_count": 9,
   "metadata": {},
   "outputs": [
    {
     "data": {
      "image/png": "[encoded data removed]",
      "text/plain": [
       "Graphics object consisting of 1 graphics primitive"
      ]
     },
     "execution_count": 9,
     "metadata": {},
     "output_type": "execute_result"
    }
   ],
   "source": [
    "plot(velocidad_promedio)"
   ]
  },
  {
   "cell_type": "markdown",
   "metadata": {},
   "source": [
    "En efecto, ¡su gráfica es una recta! Incluso podemos obtener su expresión algebraica:"
   ]
  },
  {
   "cell_type": "code",
   "execution_count": 10,
   "metadata": {},
   "outputs": [
    {
     "data": {
      "text/html": [
       "<html><script type=\"math/tex; mode=display\">\\newcommand{\\Bold}[1]{\\mathbf{#1}}t \\ {\\mapsto}\\ -\\frac{4.90500000000000 \\, t^{2} - 122.625000000000}{t - 5}</script></html>"
      ],
      "text/plain": [
       "t |--> -(4.90500000000000*t^2 - 122.625000000000)/(t - 5)"
      ]
     },
     "metadata": {},
     "output_type": "display_data"
    }
   ],
   "source": [
    "show(velocidad_promedio)"
   ]
  },
  {
   "cell_type": "markdown",
   "metadata": {},
   "source": [
    "La cual se simplifica "
   ]
  },
  {
   "cell_type": "code",
   "execution_count": 11,
   "metadata": {},
   "outputs": [
    {
     "data": {
      "text/html": [
       "<html><script type=\"math/tex; mode=display\">\\newcommand{\\Bold}[1]{\\mathbf{#1}}-\\frac{981}{200} \\, t - \\frac{981}{40}</script></html>"
      ],
      "text/plain": [
       "-981/200*t - 981/40"
      ]
     },
     "metadata": {},
     "output_type": "display_data"
    }
   ],
   "source": [
    "show(velocidad_promedio.factor())"
   ]
  },
  {
   "cell_type": "markdown",
   "metadata": {},
   "source": [
    "El detalle es que si intentamos evaluar en `t=5` en la expresión original, obtendremos una horrible división entre de cero. Ahora, si simplificamos la expresión, no es díficil evaluar en este punto, **¡pero la única manera de simplificar es removiendo dicho punto!** De aquí surgió la idea de los límites. "
   ]
  },
  {
   "cell_type": "markdown",
   "metadata": {},
   "source": [
    "### Definición intuitiva de límite.\n",
    "\n",
    "#### Ejercicio\n",
    "* Cálcule numericamente el límite de la función $f(x)=x^2-x+2$, cuando $x$ se aproxima a `2` (lo cual escribiremos como $x\\to 2$), tal como lo hicimos en el ejercicio anterior. \n",
    "* En el ejercicio anterior sólo lo aproximamos usando valores de `x` menores al punto límite. Ahora intente calcularlo, usando valores mayores que `x=2`."
   ]
  },
  {
   "cell_type": "markdown",
   "metadata": {},
   "source": [
    "#### Definición (intuitiva)\n",
    "Suponga que $f(x)$ está definida cuando $x$ está cercano a un número $c$. Entonces decimos que el límite de $f(x)$ cuando $x$ se aproxima a $c$ es igual a $L$ si podemos hacer que los valores de $f(x)$ sean *arbitrariamente* cercanos a $L$ tomando valores de $x$ suficientemente cercanos (pero no iguales) a $c$. \n",
    "\n",
    "En este caso escribimos\n",
    "$$ L = \\lim_{x\\to c} f(x) $$"
   ]
  },
  {
   "cell_type": "markdown",
   "metadata": {},
   "source": [
    "#### Ejercicio\n",
    "* Intente encontrar numéricamente \n",
    "$$ \\lim_{x \\to 1} \\dfrac{x-1}{x^2-1} $$.\n",
    "* ¿Es posible cálcularlos sólo sustituyendo en $x=1$?"
   ]
  },
  {
   "cell_type": "markdown",
   "metadata": {},
   "source": [
    "#### Ejercicio\n",
    "* Intente encontrar numéricamente \n",
    "$$ \\lim_{t \\to 0} \\dfrac{\\sqrt{t^2+9} - 3}{t^2} $$.\n",
    "* ¿Es posible cálcularlos sólo sustituyendo en $t=0$?"
   ]
  },
  {
   "cell_type": "markdown",
   "metadata": {},
   "source": [
    "#### Ejercicio\n",
    "* Intente encontrar numéricamente \n",
    "$$ \\lim_{x \\to 0} \\dfrac{\\sin(x)}{x} $$.\n",
    "* ¿Es posible cálcularlos sólo sustituyendo en $x=0$?"
   ]
  },
  {
   "cell_type": "markdown",
   "metadata": {},
   "source": [
    "#### Ejercicio\n",
    "* Investigue \n",
    "$$ \\lim_{x\\to 0} \\sin\\left(\\dfrac{\\pi}{x}\\right) $$\n",
    "* Trace la gráfica de esta función"
   ]
  },
  {
   "cell_type": "markdown",
   "metadata": {},
   "source": [
    "### Límites unilaterales"
   ]
  },
  {
   "cell_type": "markdown",
   "metadata": {},
   "source": [
    "#### Ejemplo\n",
    "\n",
    "En la física matemática, es posible encontrar funciones definidas a trozo que no son *continuas*. Por ejemplo, la función de *Heaviside*:\n",
    "\n",
    "$$\n",
    "H(t)=\n",
    "\\begin{cases}\n",
    "0 & t<0 \\\\\n",
    "1 & t\\geq 0\n",
    "\\end{cases}\n",
    "$$"
   ]
  },
  {
   "cell_type": "code",
   "execution_count": 12,
   "metadata": {},
   "outputs": [
    {
     "name": "stdout",
     "output_type": "stream",
     "text": [
      "1\n"
     ]
    },
    {
     "data": {
      "image/png": "[encoded data removed]",
      "text/plain": [
       "Graphics object consisting of 1 graphics primitive"
      ]
     },
     "execution_count": 12,
     "metadata": {},
     "output_type": "execute_result"
    }
   ],
   "source": [
    "negativos = (-infinity, 0)\n",
    "cero = [0,0]\n",
    "positivos = (0, infinity)\n",
    "\n",
    "definicion_a_trozos = [\n",
    "    [negativos,0], \n",
    "    [cero,1], \n",
    "    [positivos,1] ]\n",
    "\n",
    "H(x) = piecewise(definicion_a_trozos)\n",
    "print(H(0))\n",
    "\n",
    "plot(H, (t,-1,1), thickness=5)"
   ]
  },
  {
   "cell_type": "markdown",
   "metadata": {},
   "source": [
    "Si calculamos el límite cuando $t\\to 0$ por la izquierda, obtenemos el límite $L=0$"
   ]
  },
  {
   "cell_type": "code",
   "execution_count": 13,
   "metadata": {},
   "outputs": [
    {
     "name": "stdout",
     "output_type": "stream",
     "text": [
      "(-1.0, 0)\n",
      "(-0.88888888888888884, 0)\n",
      "(-0.77777777777777779, 0)\n",
      "(-0.66666666666666674, 0)\n",
      "(-0.55555555555555558, 0)\n",
      "(-0.44444444444444442, 0)\n",
      "(-0.33333333333333337, 0)\n",
      "(-0.22222222222222232, 0)\n",
      "(-0.11111111111111116, 0)\n",
      "(0.0, 1)\n"
     ]
    }
   ],
   "source": [
    "negativos = np.linspace(-1,0,num=10)\n",
    "for x in negativos:\n",
    "    print(x, H(x))"
   ]
  },
  {
   "cell_type": "markdown",
   "metadata": {},
   "source": [
    "Si calculamos el límite cuando $t\\to 0$ por la derecha, obtenemos el límite $L=1$"
   ]
  },
  {
   "cell_type": "code",
   "execution_count": 14,
   "metadata": {},
   "outputs": [
    {
     "name": "stdout",
     "output_type": "stream",
     "text": [
      "(1.0, 1)\n",
      "(0.88888888888888884, 1)\n",
      "(0.77777777777777779, 1)\n",
      "(0.66666666666666674, 1)\n",
      "(0.55555555555555558, 1)\n",
      "(0.44444444444444442, 1)\n",
      "(0.33333333333333337, 1)\n",
      "(0.22222222222222232, 1)\n",
      "(0.11111111111111116, 1)\n",
      "(0.0, 1)\n"
     ]
    }
   ],
   "source": [
    "positivos = np.linspace(1,0,num=10)\n",
    "for x in positivos:\n",
    "    print(x, H(x))"
   ]
  },
  {
   "cell_type": "markdown",
   "metadata": {},
   "source": [
    "Sin embargo, hay un salto o *discontinuidad*, ya que los valores de $H$ a la izquierda de $t=0$ son exactamente 0, pero en $t=0$, $H$ es igual a uno:"
   ]
  },
  {
   "cell_type": "code",
   "execution_count": 15,
   "metadata": {},
   "outputs": [
    {
     "name": "stdout",
     "output_type": "stream",
     "text": [
      "1\n"
     ]
    }
   ],
   "source": [
    "print(H(0))"
   ]
  },
  {
   "cell_type": "markdown",
   "metadata": {},
   "source": [
    "Para diferenciar el valor del límite calculado a partir de la aproximación por lados diferentes, utilizamos la siguiente notación:\n",
    "* $x \\to c^-$ si la aproximación es desde $-\\infty$, es decir, por la izquierda \n",
    "* $x \\to c^+$ si la aproximación es desde $+\\infty$, es decir, por la derecha "
   ]
  },
  {
   "cell_type": "markdown",
   "metadata": {},
   "source": [
    "Entonces, escribiremos \n",
    "$$\\lim_{x\\to c^-} f(x)$$ para el límite (lateral) que obtenemos por la izquierda y\n",
    "$$\\lim_{x\\to c^+} f(x)$$ para el límite (lateral) que obtenemos por la derecha."
   ]
  },
  {
   "cell_type": "markdown",
   "metadata": {},
   "source": [
    "En el ejemplo de la función de Heaviside, tendríamos que \n",
    "$$\\lim_{x\\to c^-} H(x) = 0$$\n",
    "$$\\lim_{x\\to c^-} H(x) = 1$$ "
   ]
  },
  {
   "cell_type": "markdown",
   "metadata": {},
   "source": [
    "Observe que el límite bilateral sólo puede definirse si existen los límites laterales y estos coinciden. Resumiendo tenemos que\n",
    "\n",
    "#### Proposición\n",
    "$$\\lim_{x\\to c} f(x) = L$$ si y solo si\n",
    "$$\\lim_{x\\to c^-} f(x)=\\lim_{x\\to c^+} f(x)$$"
   ]
  },
  {
   "cell_type": "markdown",
   "metadata": {},
   "source": [
    "Antes de continuar con los cálculos numéricos, procedamos a realizar un ejercicio de comprensión"
   ]
  },
  {
   "cell_type": "markdown",
   "metadata": {},
   "source": [
    "#### Ejercicio\n",
    "![IM10103:Discontinuidades](IM10103.PNG)\n",
    "\n",
    "Calcule los siguientes límites:\n",
    "\n",
    "* $$\\lim_{x\\to 2^-} g(x)$$ \n",
    "* $$\\lim_{x\\to 2^+} g(x)$$ \n",
    "* $$\\lim_{x\\to 2} g(x)$$"
   ]
  },
  {
   "cell_type": "markdown",
   "metadata": {},
   "source": [
    "* $$\\lim_{x\\to 5^-} g(x)$$ \n",
    "* $$\\lim_{x\\to 5^+} g(x)$$ \n",
    "* $$\\lim_{x\\to 5} g(x)$$"
   ]
  },
  {
   "cell_type": "markdown",
   "metadata": {},
   "source": [
    "#### Ejercicio\n",
    "Determine si \n",
    "$$ \\lim_{x\\to 0} \\dfrac{1}{x^2} $$\n",
    "existe."
   ]
  },
  {
   "cell_type": "code",
   "execution_count": null,
   "metadata": {},
   "outputs": [],
   "source": []
  }
 ],
 "metadata": {
  "kernelspec": {
   "display_name": "SageMath 8.3",
   "language": "",
   "name": "sagemath"
  },
  "language_info": {
   "codemirror_mode": {
    "name": "ipython",
    "version": 2
   },
   "file_extension": ".py",
   "mimetype": "text/x-python",
   "name": "python",
   "nbconvert_exporter": "python",
   "pygments_lexer": "ipython2",
   "version": "2.7.15"
  }
 },
 "nbformat": 4,
 "nbformat_minor": 2
}
