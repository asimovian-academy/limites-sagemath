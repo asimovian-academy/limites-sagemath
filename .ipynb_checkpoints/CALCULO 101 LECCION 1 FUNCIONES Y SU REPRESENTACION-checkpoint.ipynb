{
 "cells": [
  {
   "cell_type": "markdown",
   "metadata": {},
   "source": [
    "# CÁLCULO\n",
    "# FUNCIONES Y SUS LÍMITES\n",
    "\n",
    "El cálculo es muy diferente de las matemáticas que has estudiado hasta hoy, porque tiene que ver con cambios. En esta sección estudiaremos el comportamiento en cambio de funciones y sus límites."
   ]
  },
  {
   "cell_type": "markdown",
   "metadata": {},
   "source": [
    "## Funciones y su representación. \n",
    "\n",
    "Las funciones surgen cuando una cantidad depende de otra. Consideremos algunos ejemplos."
   ]
  },
  {
   "cell_type": "markdown",
   "metadata": {},
   "source": [
    "#### Ejemplo A\n",
    "\n",
    "El área de un círculo depende del radio del mismo:\n",
    "$$ A = \\pi r^2 $$"
   ]
  },
  {
   "cell_type": "code",
   "execution_count": 1,
   "metadata": {},
   "outputs": [
    {
     "name": "stdout",
     "output_type": "stream",
     "text": [
      "20.0573578810604\n"
     ]
    }
   ],
   "source": [
    "def area_circulo(radio):\n",
    "    return 3.14159*radio^2\n",
    "\n",
    "print(area_circulo(2.5267490372))"
   ]
  },
  {
   "cell_type": "markdown",
   "metadata": {},
   "source": [
    "#### Ejemplo B\n",
    "La población humana (en todo el mundo) $P$ depende del tiempo $t$. En la siguiente tabla, se muestra el año y la población en milliones correspondiente:"
   ]
  },
  {
   "cell_type": "code",
   "execution_count": 2,
   "metadata": {},
   "outputs": [],
   "source": [
    "poblacion = [\n",
    "    [1900, 1650],\n",
    "    [1910, 1750],\n",
    "    [1920, 1860],\n",
    "    [1930, 2070],\n",
    "    [1940, 2300],\n",
    "    [1950, 2560],\n",
    "    [1960, 3040],\n",
    "    [1970, 3710],\n",
    "    [1980, 4450],\n",
    "    [1990, 5280],\n",
    "    [2000, 6080],\n",
    "    [2010, 6870]\n",
    "            ]"
   ]
  },
  {
   "cell_type": "markdown",
   "metadata": {},
   "source": [
    "A partir de esta tabla, podemos crear una función punto a punto:"
   ]
  },
  {
   "cell_type": "code",
   "execution_count": 3,
   "metadata": {},
   "outputs": [
    {
     "name": "stdout",
     "output_type": "stream",
     "text": [
      "2560\n"
     ]
    }
   ],
   "source": [
    "def P(t):\n",
    "    for dato in poblacion:\n",
    "        if t==dato[0]:\n",
    "            return dato[1]\n",
    "        \n",
    "print(P(1950))"
   ]
  },
  {
   "cell_type": "markdown",
   "metadata": {},
   "source": [
    "#### Ejemplo C\n",
    "El costo $C$ de enviar un paquete depende del peso $w$. Por ejemplo, supongamos que los precio están dados por las siguiente reglas:\n",
    "* Menor o igual a 10 kgs: Costo fijo de \\$150 más \\$10 por kilogramo\n",
    "* Mayor a 10 kgs: \\$25 por kilogramo\n",
    "* La capacidad máxima del envíoi es 20 kgs"
   ]
  },
  {
   "cell_type": "code",
   "execution_count": 4,
   "metadata": {},
   "outputs": [],
   "source": [
    "def C(w):\n",
    "    if w<0:\n",
    "        return \"¿Seguro que estás enviando algo?\"\n",
    "    elif w<=10:\n",
    "        return 150 + 10*w\n",
    "    elif w<=20:\n",
    "        return 25*w\n",
    "    else:\n",
    "        return \"¡Excediste la capacidad!\"    "
   ]
  },
  {
   "cell_type": "code",
   "execution_count": 5,
   "metadata": {},
   "outputs": [
    {
     "data": {
      "text/plain": [
       "<Figure size 640x480 with 1 Axes>"
      ]
     },
     "metadata": {},
     "output_type": "display_data"
    }
   ],
   "source": [
    "import numpy as np\n",
    "import matplotlib.pyplot as plt\n",
    "\n",
    "x = np.arange(0,20,0.01)\n",
    "C = np.vectorize(C)\n",
    "y = C(x)\n",
    "\n",
    "plt.plot(x,y)\n",
    "plt.show()"
   ]
  },
  {
   "cell_type": "markdown",
   "metadata": {},
   "source": [
    "#### Ejemplo D\n",
    "La aceleracion vertical $a$ del suelo en un terremoto\n",
    "![IM10101](IM10101.png)"
   ]
  },
  {
   "cell_type": "code",
   "execution_count": 6,
   "metadata": {},
   "outputs": [],
   "source": [
    "def a(t):\n",
    "    return np.sin(t)*np.random.normal()"
   ]
  },
  {
   "cell_type": "code",
   "execution_count": null,
   "metadata": {},
   "outputs": [
    {
     "data": {
      "text/plain": [
       "[<matplotlib.lines.Line2D object at 0x6fe91f11d50>]"
      ]
     },
     "execution_count": 7,
     "metadata": {},
     "output_type": "execute_result"
    },
    {
     "name": "stderr",
     "output_type": "stream",
     "text": [
      "/opt/sagemath-8.6/local/lib/python2.7/site-packages/matplotlib/font_manager.py:278: UserWarning: Matplotlib is building the font cache using fc-list. This may take a moment.\n",
      "  'Matplotlib is building the font cache using fc-list. '\n"
     ]
    }
   ],
   "source": [
    "x = np.arange(0,np.pi,0.01)\n",
    "a = np.vectorize(a)\n",
    "y = a(x)\n",
    "\n",
    "plt.plot(x,y)"
   ]
  },
  {
   "cell_type": "markdown",
   "metadata": {},
   "source": [
    "Una **función** $f$ es una regla que asigna a cada elemento $x$ de un conjunto $D$ un elemento $f(x)$ de un conjunto $E$.\n",
    "\n",
    "Al conjunto $D$ se le llama **dominio**, mientras que a $E$ se le llama **contradominio**."
   ]
  },
  {
   "cell_type": "code",
   "execution_count": null,
   "metadata": {},
   "outputs": [],
   "source": [
    "x = var(\"x\")\n",
    "f(x) = exp(-x^2)*sin(x)\n",
    "grafica = plot(f)\n",
    "show(grafica)"
   ]
  },
  {
   "cell_type": "code",
   "execution_count": null,
   "metadata": {},
   "outputs": [],
   "source": [
    "grafica = plot(f, (x,-5,5))\n",
    "show(grafica)"
   ]
  },
  {
   "cell_type": "markdown",
   "metadata": {},
   "source": [
    "### Representación de funciones"
   ]
  },
  {
   "cell_type": "markdown",
   "metadata": {},
   "source": [
    "#### Ejercicio\n",
    "Encuentre el dominio de cada función:\n",
    "* $f(x)=\\sqrt{x+2}$\n",
    "* $g(x)=\\dfrac{1}{x^2-x}$"
   ]
  },
  {
   "cell_type": "markdown",
   "metadata": {},
   "source": [
    "** Prueba de la linea vertical ** \n",
    "Una curva en el plano $xy$ es la gráfica de una función $y=f(x)$ si y solo si no existe línea vertical alguna que intersecte la curva más de dos veces."
   ]
  },
  {
   "cell_type": "markdown",
   "metadata": {},
   "source": [
    "#### Ejemplo\n",
    "\n",
    "Determina si la ecuación $x^2-y^2=1$ define una función $y=f(x)$."
   ]
  },
  {
   "cell_type": "code",
   "execution_count": null,
   "metadata": {},
   "outputs": [],
   "source": [
    "x,y = var(\"x,y\")\n",
    "ecuacion = x^2-y^2==1\n",
    "grafica = implicit_plot(ecuacion, (x,-2,2), (y,-2,2))\n",
    "show(grafica)"
   ]
  },
  {
   "cell_type": "markdown",
   "metadata": {},
   "source": [
    "#### Ejemplo\n",
    "\n",
    "Determina si la ecuación $(x-1)^2=4(y-2)$ define una función $y=f(x)$."
   ]
  },
  {
   "cell_type": "code",
   "execution_count": null,
   "metadata": {},
   "outputs": [],
   "source": [
    "x,y = var(\"x,y\")\n",
    "ecuacion = (x-1)^2==4*(y-2)\n",
    "grafica = implicit_plot(ecuacion, (x,0,2), (y,1,3))\n",
    "show(grafica)"
   ]
  },
  {
   "cell_type": "markdown",
   "metadata": {},
   "source": [
    "#### Ejemplo \n",
    "Determina si la gráfica de las ecuaciones paramétricas:\n",
    "$$ x = 10t, y = 50+5t-\\dfrac{1}{2}(9.8)t^2$$\n",
    "define una función $y=f(x)$."
   ]
  },
  {
   "cell_type": "code",
   "execution_count": null,
   "metadata": {},
   "outputs": [],
   "source": [
    "t = var(\"t\")\n",
    "x(t) = 10*t\n",
    "y(t) = 50+5*t-(1/2)*(9.8)*t^2\n",
    "grafica = parametric_plot((x(t),y(t)), (t,0,1))\n",
    "\n",
    "show(grafica)"
   ]
  },
  {
   "cell_type": "markdown",
   "metadata": {},
   "source": [
    "#### Ejercicio de exploración\n",
    "Las funciones anteriores representan la posición de un proyectil en función del tiempo. Determina gráficamente:\n",
    "* la distancia a la que choca contra el suelo\n",
    "* cuanto tiempo tarde en ocurrir esto\n",
    "* la altura máxima y el tiempo en que se alcanza\n",
    "\n",
    "¿Puedes determinar cuál es la función $y=f(x)$?"
   ]
  },
  {
   "cell_type": "markdown",
   "metadata": {},
   "source": [
    "#### Ejercicio de exploración\n",
    "Muchas relaciones fundamentales en matemáticas y física no se pueden expresar como funciones. Aún así se puede definir el dominio de una relación. Averigua en internet como es que se hace esto y determinalo gráficamente para la relación \n",
    "\n",
    "$$ \\dfrac{(x-2)^2}{9} + \\dfrac{(y-3)^2}{4} = 1 $$.\n",
    "\n",
    "*¿Cuál es el intervalo minimal en el eje $y$ que necesitas para graficar completamente la relación? *"
   ]
  },
  {
   "cell_type": "markdown",
   "metadata": {},
   "source": [
    "### Funciones representadas a trozos"
   ]
  },
  {
   "cell_type": "markdown",
   "metadata": {},
   "source": [
    "#### Ejemplo\n",
    "Una función $f$ esta definida por\n",
    "$$f(x)=\n",
    "\\begin{cases}\n",
    "1-x & x \\leq 1\\\\\n",
    "x^2 & x>1\n",
    "\\end{cases}\n",
    "$$\n",
    "\n",
    "Evaluar $f(0), f(1), f(2)$ y graficar la función."
   ]
  },
  {
   "cell_type": "code",
   "execution_count": null,
   "metadata": {},
   "outputs": [],
   "source": [
    "def f(x):\n",
    "    if x<=1:\n",
    "        return 1-x\n",
    "    else:\n",
    "        return x**2"
   ]
  },
  {
   "cell_type": "code",
   "execution_count": null,
   "metadata": {},
   "outputs": [],
   "source": [
    "import numpy as np\n",
    "f = np.vectorize(f)\n",
    "x = [0,1,2]\n",
    "y = f(x)\n",
    "print(y)"
   ]
  },
  {
   "cell_type": "code",
   "execution_count": null,
   "metadata": {},
   "outputs": [],
   "source": [
    "import matplotlib.pyplot as plt\n",
    "\n",
    "x = np.arange(0,2,0.001)\n",
    "y = f(x)\n",
    "\n",
    "plt.plot(x,y)\n",
    "plt.show()"
   ]
  },
  {
   "cell_type": "markdown",
   "metadata": {},
   "source": [
    "#### Ejercicio (Valor absoluto)\n",
    "* Investiga como se define la función *valor absoluto*\n",
    "* Implementala en `Python`\n",
    "* Evaluala en el arreglo $x=-1,0,1$\n",
    "* Traza la gráfica"
   ]
  },
  {
   "cell_type": "markdown",
   "metadata": {},
   "source": [
    "### Simetría\n",
    "\n",
    "Si una función $f(x)$ satisface la relación $f(x)=f(-x)$ en su dominio, diremos que la función es **par**. Su gráfica es simétrica respecto al eje $y$."
   ]
  },
  {
   "cell_type": "markdown",
   "metadata": {},
   "source": [
    "#### Ejemplo\n",
    "$$ f(x) = x^2 $$"
   ]
  },
  {
   "cell_type": "code",
   "execution_count": null,
   "metadata": {},
   "outputs": [],
   "source": [
    "x = var(\"x\")\n",
    "f(x) = x^2\n",
    "show(f(-x))"
   ]
  },
  {
   "cell_type": "code",
   "execution_count": null,
   "metadata": {},
   "outputs": [],
   "source": [
    "plot(f)"
   ]
  },
  {
   "cell_type": "markdown",
   "metadata": {},
   "source": [
    "#### Ejemplo\n",
    "$$ g(x) = cos(x) $$"
   ]
  },
  {
   "cell_type": "code",
   "execution_count": null,
   "metadata": {},
   "outputs": [],
   "source": [
    "x = var(\"x\")\n",
    "g(x) = cos(x)\n",
    "show(g(-x).simplify())"
   ]
  },
  {
   "cell_type": "code",
   "execution_count": null,
   "metadata": {},
   "outputs": [],
   "source": [
    "plot(g, (x,-2*pi, 2*pi))"
   ]
  },
  {
   "cell_type": "markdown",
   "metadata": {},
   "source": [
    "Si una función $f(x)$ satisface la relación $f(-x)=-f(x)$ en su dominio, diremos que la función es **impar**. Su gráfica es simétrica respecto al origen."
   ]
  },
  {
   "cell_type": "markdown",
   "metadata": {},
   "source": [
    "#### Ejemplo 4\n",
    "$$f(x) = x^3$$"
   ]
  },
  {
   "cell_type": "code",
   "execution_count": null,
   "metadata": {},
   "outputs": [],
   "source": [
    "x = var(\"x\")\n",
    "f(x) = x^3\n",
    "show(f(-x).simplify())"
   ]
  },
  {
   "cell_type": "code",
   "execution_count": null,
   "metadata": {},
   "outputs": [],
   "source": [
    "plot(f)"
   ]
  },
  {
   "cell_type": "markdown",
   "metadata": {},
   "source": [
    "#### Ejemplo \n",
    "$$g(x) = \\sin(x)$$"
   ]
  },
  {
   "cell_type": "code",
   "execution_count": null,
   "metadata": {},
   "outputs": [],
   "source": [
    "x = var(\"x\")\n",
    "g(x) = sin(x)\n",
    "show(g(-x).simplify())"
   ]
  },
  {
   "cell_type": "code",
   "execution_count": null,
   "metadata": {},
   "outputs": [],
   "source": [
    "plot(g, (x,-pi,pi))"
   ]
  },
  {
   "cell_type": "markdown",
   "metadata": {},
   "source": [
    "#### Ejercicio\n",
    "Determina si las siguiente funciones son pares, impares o ninguna:\n",
    "* $f(x)=x^5+x$\n",
    "* $g(x)=1-x^4$\n",
    "* $h(x)=2x-x^2$"
   ]
  },
  {
   "cell_type": "markdown",
   "metadata": {},
   "source": [
    "#### Funciones crecientes y decrecientes\n",
    "\n",
    "Una función $f$ es **creciente** en un intervalo $I$ si\n",
    "$$f(x_0) < f(x_1)$$ siempre que $x_1 < x_2$.\n",
    "\n",
    "\n",
    "Una función $f$ es **decreciente** en un intervalo $I$ si\n",
    "$$f(x_0) < f(x_1)$$ siempre que $x_1 < x_2$."
   ]
  },
  {
   "cell_type": "markdown",
   "metadata": {},
   "source": [
    "**Observación** El intervalo es muy importante para determinar si la función es creciente o no. Consideremos la función $f(x)=x^2$ en los intervalos\n",
    "* $I=(-1,0)$\n",
    "* $I=(0,1)$\n",
    "* $I=(-1,-1)$"
   ]
  },
  {
   "cell_type": "code",
   "execution_count": null,
   "metadata": {},
   "outputs": [],
   "source": [
    "x = var(\"x\")\n",
    "f(x) = x^2"
   ]
  },
  {
   "cell_type": "code",
   "execution_count": null,
   "metadata": {},
   "outputs": [],
   "source": [
    "plot(f, (x,-1,0))"
   ]
  },
  {
   "cell_type": "code",
   "execution_count": null,
   "metadata": {},
   "outputs": [],
   "source": [
    "plot(f, (x,0,1))"
   ]
  },
  {
   "cell_type": "code",
   "execution_count": null,
   "metadata": {},
   "outputs": [],
   "source": [
    "plot(f, (x,-1,1))"
   ]
  },
  {
   "cell_type": "code",
   "execution_count": null,
   "metadata": {},
   "outputs": [],
   "source": []
  }
 ],
 "metadata": {
  "kernelspec": {
   "display_name": "SageMath 8.6",
   "language": "",
   "name": "sagemath"
  },
  "language_info": {
   "codemirror_mode": {
    "name": "ipython",
    "version": 2
   },
   "file_extension": ".py",
   "mimetype": "text/x-python",
   "name": "python",
   "nbconvert_exporter": "python",
   "pygments_lexer": "ipython2",
   "version": "2.7.15rc1"
  }
 },
 "nbformat": 4,
 "nbformat_minor": 2
}
