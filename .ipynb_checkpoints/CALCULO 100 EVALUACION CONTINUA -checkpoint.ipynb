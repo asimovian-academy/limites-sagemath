{
 "cells": [
  {
   "cell_type": "markdown",
   "metadata": {},
   "source": [
    "En este evaluación, aprenderemos a analizar gráficas de funciones encontrando puntos destacados tales como\n",
    "* Ceros (o raíces)\n",
    "* Puntos críticos\n",
    "* Puntos de inflexión"
   ]
  },
  {
   "cell_type": "markdown",
   "metadata": {},
   "source": [
    "## Raíces\n",
    "\n",
    "Los ceros o raíces de una función $f:I\\to\\mathbb{R}$ son aquellos puntos $r\\in I$ tales que $f(r)=0$.\n",
    "\n",
    "### Ejemplo \n",
    "1. Determina las raíces de $f(x)=xe^x$. \n",
    "2. Bosqueja la gráfica marcando las intersecciones con los ejes.\n",
    "3. Determina los intervalos en que la función es positiva y en los que es negativa."
   ]
  },
  {
   "cell_type": "markdown",
   "metadata": {},
   "source": [
    "#### Solución\n",
    "Primero resolvemos la ecuación utilizando el método `solve`"
   ]
  },
  {
   "cell_type": "code",
   "execution_count": 21,
   "metadata": {},
   "outputs": [
    {
     "data": {
      "text/html": [
       "<html><script type=\"math/tex; mode=display\">\\newcommand{\\Bold}[1]{\\mathbf{#1}}\\left[x = 0\\right]</script></html>"
      ],
      "text/plain": [
       "[x == 0]"
      ]
     },
     "metadata": {},
     "output_type": "display_data"
    }
   ],
   "source": [
    "f(x) = x*exp(x)\n",
    "ecuacion_raices = f(x)==0\n",
    "raices = solve(ecuacion_raices,x)\n",
    "show(raices)"
   ]
  },
  {
   "cell_type": "markdown",
   "metadata": {},
   "source": [
    "En el bloque anterior determinamos que la única raíz es $x=0$, por lo que la única intersección con el eje $x$ es $(0,0)$. Por pura coincidencia, resulta que es también la intersección con el eje $y$."
   ]
  },
  {
   "cell_type": "code",
   "execution_count": 22,
   "metadata": {},
   "outputs": [
    {
     "data": {
      "image/png": "[encoded data removed]",
      "text/plain": [
       "Graphics object consisting of 2 graphics primitives"
      ]
     },
     "metadata": {},
     "output_type": "display_data"
    }
   ],
   "source": [
    "# trazamos la gráfica de f\n",
    "grafica = plot(f)\n",
    "# añadimos (+=) la intersección con los ejes\n",
    "## tamaño = 10, color = rojo\n",
    "grafica += point((0,0), size=100, color=\"red\")\n",
    "# mostramos la gráfica\n",
    "show(grafica)"
   ]
  },
  {
   "cell_type": "markdown",
   "metadata": {},
   "source": [
    "Ahora determinaremos cuando la función es positiva ($f(x)>0$) y cuando es negativa ($f(x)<0$)."
   ]
  },
  {
   "cell_type": "code",
   "execution_count": 23,
   "metadata": {},
   "outputs": [
    {
     "name": "stdout",
     "output_type": "stream",
     "text": [
      "[[0 < x]]\n"
     ]
    }
   ],
   "source": [
    "# determinamos el intervalo I={x|f(x)>0}\n",
    "f_positiva = solve(f(x)>0, x)\n",
    "print(f_positiva)"
   ]
  },
  {
   "cell_type": "code",
   "execution_count": 24,
   "metadata": {},
   "outputs": [
    {
     "name": "stdout",
     "output_type": "stream",
     "text": [
      "[[x < 0]]\n"
     ]
    }
   ],
   "source": [
    "# determinamos el intervalo I={x|f(x)<0}\n",
    "f_negativa = solve(f(x)<0, x)\n",
    "print(f_negativa)"
   ]
  },
  {
   "cell_type": "markdown",
   "metadata": {},
   "source": [
    "Concluímos que la función es positiva en el intervalo $x>0$, mientras que es negativa en $x<0$."
   ]
  },
  {
   "cell_type": "markdown",
   "metadata": {},
   "source": [
    "## Puntos críticos\n",
    "\n",
    "Los puntos críticos de una función diferenciable $f:I\\to\\mathbb{R}$ son aquellos puntos $r\\in I$ tales que $f'(r)=0$.\n",
    "\n",
    "### Ejemplo \n",
    "1. Determina los puntos críticos de $f(x)=xe^x$. \n",
    "2. Marca estos puntos en la gráfica anterior.\n",
    "3. Determina los intervalos en que la función es creciente y en los que es decreciente."
   ]
  },
  {
   "cell_type": "markdown",
   "metadata": {},
   "source": [
    "#### Solución\n",
    "\n",
    "Calcularemos primero la derivada de la función; plantearemos la ecuación de sus puntos críticos y resolveremos. "
   ]
  },
  {
   "cell_type": "code",
   "execution_count": 25,
   "metadata": {},
   "outputs": [
    {
     "data": {
      "text/html": [
       "<html><script type=\"math/tex; mode=display\">\\newcommand{\\Bold}[1]{\\mathbf{#1}}\\left[x = \\left(-1\\right)\\right]</script></html>"
      ],
      "text/plain": [
       "[x == -1]"
      ]
     },
     "metadata": {},
     "output_type": "display_data"
    }
   ],
   "source": [
    "# calculamos la derivada fx de la función f\n",
    "fx(x) = f.diff(x)\n",
    "# planteamos la ecuación del punto crítico\n",
    "ecuacion_pto_critico = fx(x)==0\n",
    "# resolvemos\n",
    "ptos_criticos = solve(ecuacion_pto_critico, x)\n",
    "show(ptos_criticos)"
   ]
  },
  {
   "cell_type": "markdown",
   "metadata": {},
   "source": [
    "Del inciso anterior, concluímos que el único punto crítico es"
   ]
  }
 ],
 "metadata": {
  "kernelspec": {
   "display_name": "SageMath 8.1",
   "language": "",
   "name": "sagemath"
  },
  "language_info": {
   "codemirror_mode": {
    "name": "ipython",
    "version": 2
   },
   "file_extension": ".py",
   "mimetype": "text/x-python",
   "name": "python",
   "nbconvert_exporter": "python",
   "pygments_lexer": "ipython2",
   "version": "2.7.15rc1"
  }
 },
 "nbformat": 4,
 "nbformat_minor": 2
}
